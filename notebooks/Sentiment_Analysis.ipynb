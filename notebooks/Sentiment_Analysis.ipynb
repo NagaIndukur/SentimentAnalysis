{
 "cells": [
  {
   "cell_type": "code",
   "execution_count": 1,
   "metadata": {},
   "outputs": [],
   "source": [
    "import re\n",
    "import pandas as pd \n",
    "import numpy as np \n",
    "import matplotlib.pyplot as plt \n",
    "import seaborn as sns\n",
    "import string\n",
    "import nltk\n",
    "import tweepy\n",
    "import warnings \n",
    "from textblob import TextBlob\n",
    "from nltk.sentiment.vader import SentimentIntensityAnalyzer\n",
    "warnings.filterwarnings(\"ignore\", category=DeprecationWarning)\n",
    "\n",
    "%matplotlib inline"
   ]
  },
  {
   "cell_type": "code",
   "execution_count": 2,
   "metadata": {
    "colab": {
     "base_uri": "https://localhost:8080/",
     "height": 359
    },
    "colab_type": "code",
    "executionInfo": {
     "elapsed": 1612,
     "status": "ok",
     "timestamp": 1551364555934,
     "user": {
      "displayName": "ExciteSpotless FilmsVideos",
      "photoUrl": "",
      "userId": "12062734824928008241"
     },
     "user_tz": -330
    },
    "id": "i41rn4KkG-iz",
    "outputId": "0184b8d1-56c8-41fb-fcb8-fef2e2f8d2e5"
   },
   "outputs": [],
   "source": [
    "try:\n",
    "    #My Twitter API Authentication Variables\n",
    "    consumer_key = 'xx'\n",
    "    consumer_secret = 'xx'\n",
    "    access_token = 'xx'\n",
    "    access_token_secret = 'xx'\n",
    "    auth = tweepy.OAuthHandler(consumer_key, consumer_secret)\n",
    "    auth.set_access_token(access_token, access_token_secret)\n",
    "\n",
    "    api = tweepy.API(auth)\n",
    "    \n",
    "except:\n",
    "    print(\"Authentication Error\")"
   ]
  },
  {
   "cell_type": "code",
   "execution_count": 4,
   "metadata": {},
   "outputs": [],
   "source": [
    "def user_data(user_id):\n",
    "    print(\"Entered user_id\")\n",
    "    new_data = pd.DataFrame()\n",
    "    final_data = pd.DataFrame()\n",
    "    new_tweets = api.search(user_id, count=100, lang = \"en\", resultType= \"recent\")\n",
    "    new_data['Tweets'] = np.array([tweet.text for tweet in new_tweets])\n",
    "    new_data['len']  = np.array([len(tweet.text) for tweet in new_tweets])\n",
    "    new_data['ID']   = np.array([tweet.id for tweet in new_tweets])\n",
    "    new_data['Date'] = np.array([tweet.created_at for tweet in new_tweets])\n",
    "    new_data['Source'] = np.array([tweet.source for tweet in new_tweets])\n",
    "    new_data['Likes']  = np.array([tweet.favorite_count for tweet in new_tweets])\n",
    "    new_data['RTs']    = np.array([tweet.retweet_count for tweet in new_tweets])\n",
    "    print(new_data.head(5))\n",
    "    print(len(new_data))\n",
    "       \n",
    "    return new_data\n",
    "        \n",
    "        "
   ]
  },
  {
   "cell_type": "code",
   "execution_count": 7,
   "metadata": {},
   "outputs": [
    {
     "name": "stdout",
     "output_type": "stream",
     "text": [
      "Entered user_id\n",
      "                                              Tweets  len  \\\n",
      "0  1. Thread with some high-level thoughts on wha...  139   \n",
      "1  RT @Enterprise_Flt: As the tradition goes, one...  140   \n",
      "2  RT @marcuscotephoto: Landed #Falcon9 enters Po...  139   \n",
      "3  RT @JimBridenstine: A new generation of space ...  140   \n",
      "4  RT @alvinfoo: #SpaceX’s #CrewDragon spacecraft...  140   \n",
      "\n",
      "                    ID                Date               Source  Likes   RTs  \n",
      "0  1102964320034422784 2019-03-05 16:09:20   Twitter Web Client      0     0  \n",
      "1  1102964246512427008 2019-03-05 16:09:03      Twitter Web App      0    53  \n",
      "2  1102964212895281154 2019-03-05 16:08:55  Twitter for Android      0     2  \n",
      "3  1102964191596556289 2019-03-05 16:08:50   Twitter Web Client      0  3507  \n",
      "4  1102964121014808577 2019-03-05 16:08:33   Twitter Web Client      0    42  \n",
      "100\n"
     ]
    }
   ],
   "source": [
    "val = 'SpaceX'\n",
    "new_data = pd.DataFrame\n",
    "new_data = user_data(val)\n",
    "#x = x.append(new_tweets)\n",
    "#new_tweets = api.user_timeline(screen_name=\"MKBHD\", count=200)"
   ]
  },
  {
   "cell_type": "code",
   "execution_count": 8,
   "metadata": {},
   "outputs": [],
   "source": [
    "def clean_tweet(tweet):\n",
    "    return ' '.join(re.sub(\"(@[A-Za-z0-9]+)|([^0-9A-Za-z \\t])|(\\w+:\\/\\/\\S+)\", \" \", tweet).split())\n",
    "\n",
    "def sentiment_analyser(tweet):\n",
    "    analysis = TextBlob(clean_tweet(tweet))\n",
    "    if analysis.sentiment.polarity > 0:\n",
    "        return 1\n",
    "    elif analysis.sentiment.polarity == 0:\n",
    "        return 0\n",
    "    else:\n",
    "        return -1"
   ]
  },
  {
   "cell_type": "code",
   "execution_count": 9,
   "metadata": {},
   "outputs": [],
   "source": [
    "new_data['SA'] = np.array([ sentiment_analyser(tweet) for tweet in new_data['Tweets'] ])"
   ]
  },
  {
   "cell_type": "code",
   "execution_count": 10,
   "metadata": {},
   "outputs": [],
   "source": [
    "pos_tweets = [ tweet for index, tweet in enumerate(new_data['Tweets']) if new_data['SA'][index] > 0]\n",
    "neu_tweets = [ tweet for index, tweet in enumerate(new_data['Tweets']) if new_data['SA'][index] == 0]\n",
    "neg_tweets = [ tweet for index, tweet in enumerate(new_data['Tweets']) if new_data['SA'][index] < 0]"
   ]
  },
  {
   "cell_type": "code",
   "execution_count": 11,
   "metadata": {},
   "outputs": [
    {
     "name": "stdout",
     "output_type": "stream",
     "text": [
      "Percentage of positive tweets: 61.0%\n",
      "Percentage of neutral tweets: 33.0%\n",
      "Percentage de negative tweets: 6.0%\n"
     ]
    }
   ],
   "source": [
    "print(\"Percentage of positive tweets: {}%\".format(len(pos_tweets)*100/len(new_data['Tweets'])))\n",
    "print(\"Percentage of neutral tweets: {}%\".format(len(neu_tweets)*100/len(new_data['Tweets'])))\n",
    "print(\"Percentage de negative tweets: {}%\".format(len(neg_tweets)*100/len(new_data['Tweets'])))"
   ]
  },
  {
   "cell_type": "code",
   "execution_count": null,
   "metadata": {},
   "outputs": [],
   "source": [
    "def search_data(val):\n",
    "    tweets = api.search('India', count=200)\n",
    "    data = pd.DataFrame(data=[tweet.text for tweet in tweets], columns=['Tweets'])\n",
    "    display(data.head(10))\n",
    "    \n",
    "    \n",
    "for tweet in new_tweets[:5]:\n",
    "    print(tweet.text)\n",
    "    \n",
    "new_data = pd.DataFrame(data=[tweet.text for tweet in new_tweets], columns=['Tweets'])\n",
    "\n",
    "new_data['len']  = np.array([len(tweet.text) for tweet in new_tweets])\n",
    "new_data['ID']   = np.array([tweet.id for tweet in new_tweets])\n",
    "new_data['Date'] = np.array([tweet.created_at for tweet in new_tweets])\n",
    "new_data['Source'] = np.array([tweet.source for tweet in new_tweets])\n",
    "new_data['Likes']  = np.array([tweet.favorite_count for tweet in new_tweets])\n",
    "new_data['RTs']    = np.array([tweet.retweet_count for tweet in new_tweets])"
   ]
  },
  {
   "cell_type": "code",
   "execution_count": 0,
   "metadata": {
    "colab": {},
    "colab_type": "code",
    "id": "sgtDiI-PC1AH"
   },
   "outputs": [],
   "source": [
    "class StreamListener(tweepy.StreamListener):\n",
    "    def on_status(self, status):\n",
    "        if status.retweeted_status:\n",
    "            return\n",
    "        description = status.user.description\n",
    "        print(status.text)\n",
    "        \n",
    "    def on_error(self, status_code):\n",
    "        if status_code == 420:\n",
    "            return False\n",
    "    \n",
    "    \n",
    "    \n",
    "        \"\"\"\"loc = status.user.location\n",
    "        text = status.text\n",
    "        coords = status.coordinates\n",
    "\n",
    "        geo = status.geo\n",
    "\n",
    "        name = status.user.screen_name\n",
    "\n",
    "        user_created = status.user.created_at\n",
    "\n",
    "        followers = status.user.followers_count\n",
    "\n",
    "        id_str = status.id_str\n",
    "\n",
    "        created = status.created_at\n",
    "\n",
    "        retweets = status.retweet_count\n",
    "\n",
    "        bg_color = status.user.profile_background_color\n",
    "\n",
    "        blob = TextBlob(text)\n",
    "\n",
    "        sent = blob.sentiment\"\"\"\n",
    "\n",
    "\n",
    "\n",
    "stream_listener = StreamListener()\n",
    "\n",
    "stream = tweepy.Stream(auth=api.auth, listener=stream_listener)\n",
    "\n",
    "stream.filter(track=[\"trump\", \"clinton\", \"sanders\", \"hillary clinton\", \"bernie\", \"donald trump\"])"
   ]
  }
 ],
 "metadata": {
  "colab": {
   "name": "Sentiment_Analysis.ipynb",
   "provenance": [],
   "version": "0.3.2"
  },
  "kernelspec": {
   "display_name": "Python 3",
   "language": "python",
   "name": "python3"
  },
  "language_info": {
   "codemirror_mode": {
    "name": "ipython",
    "version": 3
   },
   "file_extension": ".py",
   "mimetype": "text/x-python",
   "name": "python",
   "nbconvert_exporter": "python",
   "pygments_lexer": "ipython3",
   "version": "3.7.4"
  }
 },
 "nbformat": 4,
 "nbformat_minor": 1
}
